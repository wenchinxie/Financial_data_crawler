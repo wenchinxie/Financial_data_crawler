{
 "cells": [
  {
   "cell_type": "code",
   "execution_count": 3,
   "metadata": {},
   "outputs": [],
   "source": [
    "import yaml\n",
    "import os\n",
    "from pathlib import Path\n",
    "\n",
    "with open('cleaner_test_data.yaml', encoding=\"utf-8\") as f:\n",
    "    test_data = yaml.safe_load(f)"
   ]
  },
  {
   "cell_type": "code",
   "execution_count": 4,
   "metadata": {},
   "outputs": [
    {
     "data": {
      "text/plain": [
       "{'DayTradeTestData': {'TestCase': {'valid_listed_table': '\\'<table id=\"table\"><thead> <tr> <th colspan=\"6\" scope=\"col\"> <div>112年02月02日當日沖銷交易標的及成交量值</div> </th> </tr> <tr> <td>證券代號</td> <td>證券名稱</td> <td>暫停現股賣出後現款買進當沖註記</td> <td>當日沖銷交易成交股數</td> <td>當日沖銷交易買進成交金額</td> <td>當日沖銷交易賣出成交金額</td> </tr> </thead> <tbody> <tr> <td>0050</td> <td>元大台灣50</td> <td></td> <td>1,077,000</td> <td>129,880,000</td> <td>130,018,150</td> </tr> </tbody> </table>\\'',\n",
       "   'valid_otc_table': '\\'<table id=\"table\"><thead> <tr> <th>證券代號</th> <th>證券名稱</th> <th>暫停現股賣出後<br>現款買進當沖註記</br></th> <th>當日沖銷交易成交股數</th> <th>當日沖銷交易買進成交金額</th> <th>當日沖銷交易賣出成交金額</th> </tr> </thead> <tbody> <tr> <td align=\"right\">00679B</td> <td align=\"right\">元大美債20年</td> <td align=\"right\"> </td> <td align=\"right\">880,000</td> <td align=\"right\">28,376,500</td> <td align=\"right\">28,388,270</td> </tr> </tbody> </table>\\''},\n",
       "  'Expected': {'valid_listed_table': {'StockID': '0050',\n",
       "    'Name': '元大台灣50',\n",
       "    'BuyAfterSale': '',\n",
       "    'DayTradeVolume': '1077000,',\n",
       "    'DayTradeBuyAmount': 129880000,\n",
       "    'DayTradeSellAmount': 130018150},\n",
       "   'valid_otc_table': {'StockID': '00679B',\n",
       "    'Name': '元大美債20年',\n",
       "    'BuyAfterSale': '',\n",
       "    'DayTradeVolume': '880000,',\n",
       "    'DayTradeBuyAmount': 28376500,\n",
       "    'DayTradeSellAmount': 28388270}}}}"
      ]
     },
     "execution_count": 4,
     "metadata": {},
     "output_type": "execute_result"
    }
   ],
   "source": [
    "test_data"
   ]
  },
  {
   "cell_type": "code",
   "execution_count": null,
   "metadata": {},
   "outputs": [],
   "source": []
  }
 ],
 "metadata": {
  "kernelspec": {
   "display_name": "AT_WEB",
   "language": "python",
   "name": "at_web"
  },
  "language_info": {
   "codemirror_mode": {
    "name": "ipython",
    "version": 3
   },
   "file_extension": ".py",
   "mimetype": "text/x-python",
   "name": "python",
   "nbconvert_exporter": "python",
   "pygments_lexer": "ipython3",
   "version": "3.9.5"
  },
  "orig_nbformat": 4
 },
 "nbformat": 4,
 "nbformat_minor": 2
}
