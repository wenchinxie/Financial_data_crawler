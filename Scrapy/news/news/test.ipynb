{
 "cells": [
  {
   "cell_type": "code",
   "execution_count": 11,
   "metadata": {},
   "outputs": [],
   "source": [
    "from db import clients"
   ]
  },
  {
   "cell_type": "code",
   "execution_count": 10,
   "metadata": {},
   "outputs": [
    {
     "name": "stdout",
     "output_type": "stream",
     "text": [
      "['c:\\\\Users\\\\s3309\\\\AT\\\\Financial_data_crawler\\\\Scrapy\\\\news\\\\news', 'C:\\\\Users\\\\s3309\\\\AppData\\\\Local\\\\Programs\\\\Python\\\\Python39\\\\python39.zip', 'C:\\\\Users\\\\s3309\\\\AppData\\\\Local\\\\Programs\\\\Python\\\\Python39\\\\DLLs', 'C:\\\\Users\\\\s3309\\\\AppData\\\\Local\\\\Programs\\\\Python\\\\Python39\\\\lib', 'C:\\\\Users\\\\s3309\\\\AppData\\\\Local\\\\Programs\\\\Python\\\\Python39', 'C:\\\\Users\\\\s3309\\\\AppData\\\\Local\\\\Programs\\\\Python\\\\Python39\\\\dlenv', '', 'C:\\\\Users\\\\s3309\\\\AppData\\\\Local\\\\Programs\\\\Python\\\\Python39\\\\dlenv\\\\lib\\\\site-packages', 'C:\\\\Users\\\\s3309\\\\AppData\\\\Local\\\\Programs\\\\Python\\\\Python39\\\\dlenv\\\\lib\\\\site-packages\\\\win32', 'C:\\\\Users\\\\s3309\\\\AppData\\\\Local\\\\Programs\\\\Python\\\\Python39\\\\dlenv\\\\lib\\\\site-packages\\\\win32\\\\lib', 'C:\\\\Users\\\\s3309\\\\AppData\\\\Local\\\\Programs\\\\Python\\\\Python39\\\\dlenv\\\\lib\\\\site-packages\\\\Pythonwin', '..', '../../..']\n"
     ]
    }
   ],
   "source": [
    "import sys\n",
    "\n",
    "sys.path.append('../../..')\n",
    "print(sys.path)"
   ]
  },
  {
   "cell_type": "code",
   "execution_count": 9,
   "metadata": {},
   "outputs": [
    {
     "data": {
      "text/plain": [
       "'..'"
      ]
     },
     "execution_count": 9,
     "metadata": {},
     "output_type": "execute_result"
    }
   ],
   "source": [
    "sys.path[-1]"
   ]
  },
  {
   "cell_type": "code",
   "execution_count": 1,
   "metadata": {},
   "outputs": [
    {
     "ename": "ModuleNotFoundError",
     "evalue": "No module named 'twisted'",
     "output_type": "error",
     "traceback": [
      "\u001b[1;31m---------------------------------------------------------------------------\u001b[0m",
      "\u001b[1;31mModuleNotFoundError\u001b[0m                       Traceback (most recent call last)",
      "Cell \u001b[1;32mIn [1], line 1\u001b[0m\n\u001b[1;32m----> 1\u001b[0m \u001b[39mimport\u001b[39;00m \u001b[39mtwisted\u001b[39;00m\n",
      "\u001b[1;31mModuleNotFoundError\u001b[0m: No module named 'twisted'"
     ]
    }
   ],
   "source": [
    "import twisted"
   ]
  },
  {
   "cell_type": "code",
   "execution_count": 6,
   "metadata": {},
   "outputs": [
    {
     "name": "stdout",
     "output_type": "stream",
     "text": [
      "[('certifi', '2022.9.24'), ('pytz', '2022.6'), ('tifffile', '2022.2.9'), ('pytzdata', '2020.1'), ('pywin32', '305'), ('setuptools', '60.2.0'), ('cryptography', '36.0.2'), ('cattrs', '22.2.0'), ('attrs', '22.1.0'), ('pyzmq', '22.1.0'), ('argon2-cffi', '21.3.0'), ('packaging', '21.3'), ('argon2-cffi-bindings', '21.2.0'), ('pip', '21.1.2'), ('boltons', '21.0.0'), ('virtualenv', '20.13.3'), ('clickclick', '20.10.2'), ('gunicorn', '20.1.0'), ('PyQt5-sip', '12.9.0'), ('rich', '12.6.0'), ('environs', '9.3.5'), ('Pillow', '9.0.1'), ('Faker', '8.9.1'), ('ipython', '8.6.0'), ('click', '8.1.3'), ('tenacity', '8.1.0'), ('sourcedefender', '7.1.61'), ('python-slugify', '7.0.0'), ('notebook', '6.4.6'), ('nbconvert', '6.3.0'), ('pytest', '6.2.5'), ('traits', '6.2.0'), ('jupyter-client', '6.1.12'), ('tornado', '6.1'), ('feedparser', '6.0.8'), ('PyYAML', '6.0'), ('PyQt5', '5.15.4'), ('PyQt5-Qt5', '5.15.2'), ('plotly', '5.10.0'), ('psutil', '5.9.4'), ('ipykernel', '5.5.5'), ('zope.interface', '5.4.0'), ('celery', '5.2.7'), ('kombu', '5.2.4'), ('multidict', '5.2.0'), ('nbformat', '5.1.3'), ('amqp', '5.1.1'), ('configobj', '5.0.6'), ('traitlets', '5.0.5'), ('configparser', '5.0.2'), ('rdflib', '5.0.0'), ('vine', '5.0.0'), ('tqdm', '4.61.2'), ('jsonschema', '4.17.3'), ('importlib-metadata', '4.13.0'), ('beautifulsoup4', '4.9.3'), ('lxml', '4.9.2'), ('colorlog', '4.8.0'), ('rsa', '4.7.2'), ('jupyter-core', '4.7.1'), ('opencv-python', '4.5.2.54'), ('Flask-JWT-Extended', '4.4.4'), ('decorator', '4.4.2'), ('opencv-contrib-python', '4.4.0.46'), ('humanize', '4.4.0'), ('typing-extensions', '4.4.0'), ('pymongo', '4.3.3'), ('DateTime', '4.3'), ('cachetools', '4.2.2'), ('sec-edgar-downloader', '4.2.1'), ('Flask-AppBuilder', '4.1.4'), ('apache-airflow-providers-http', '4.1.0'), ('bleach', '4.1.0'), ('flake8', '4.0.1'), ('pyarrow', '4.0.1'), ('selenium', '3.141.0'), ('marshmallow', '3.19.0'), ('protobuf', '3.17.3'), ('simplejson', '3.17.3'), ('pycryptodome', '3.14.1'), ('zipp', '3.11.0'), ('premailer', '3.10.0'), ('aiohttp', '3.7.4.post0'), ('billiard', '3.6.4.0'), ('anyio', '3.6.2'), ('filelock', '3.6.0'), ('widgetsnbextension', '3.5.2'), ('matplotlib', '3.4.2'), ('asgiref', '3.4.1'), ('Markdown', '3.4.1'), ('idna', '3.4'), ('apispec', '3.3.2'), ('apache-airflow-providers-sqlite', '3.3.1'), ('cfgv', '3.3.1'), ('opt-einsum', '3.3.0'), ('Django', '3.2.8'), ('lightgbm', '3.2.1'), ('nibabel', '3.2.1'), ('apache-airflow-providers-ftp', '3.2.0'), ('Jinja2', '3.1.2'), ('ConfigUpdater', '3.1.1'), ('oauthlib', '3.1.1'), ('apache-airflow-providers-celery', '3.1.0'), ('apache-airflow-providers-imap', '3.1.0'), ('h5py', '3.1.0'), ('prompt-toolkit', '3.0.33'), ('pyparsing', '3.0.9'), ('openpyxl', '3.0.7'), ('chardet', '3.0.4'), ('async-timeout', '3.0.1'), ('marshmallow-oneofschema', '3.0.1'), ('WTForms', '3.0.1'), ('XlsxWriter', '3.0.1'), ('requests', '2.28.1'), ('pycparser', '2.21'), ('pre-commit', '2.17.0'), ('imageio', '2.16.1'), ('connexion', '2.14.1'), ('Pygments', '2.13.0'), ('Babel', '2.11.0'), ('PyPDF2', '2.11.0'), ('psycopg2', '2.9.1'), ('python-dateutil', '2.8.2'), ('pycodestyle', '2.8.0'), ('PyJWT', '2.6.0'), ('Flask-SQLAlchemy', '2.5.1'), ('networkx', '2.5.1'), ('platformdirs', '2.5.1'), ('tabula-py', '2.5.1'), ('apache-airflow', '2.5.0'), ('tensorboard', '2.5.0'), ('tensorflow-estimator', '2.5.0'), ('tensorflow-gpu', '2.5.0'), ('keras-nightly', '2.5.0.dev2021032900'), ('identify', '2.4.11'), ('cssutils', '2.4.0'), ('paddleocr', '2.4'), ('pyflakes', '2.4.0'), ('python-daemon', '2.3.2'), ('paddlenlp', '2.2.4'), ('visualdl', '2.2.3'), ('Flask', '2.2.2'), ('paddlepaddle', '2.2.2'), ('Werkzeug', '2.2.2'), ('dnspython', '2.2.1'), ('prettytable', '2.2.1'), ('soupsieve', '2.2.1'), ('itsdangerous', '2.1.2'), ('pendulum', '2.1.2'), ('charset-normalizer', '2.1.1'), ('MarkupSafe', '2.1.1'), ('termcolor', '2.1.1'), ('asttokens', '2.1.0'), ('markdown-it-py', '2.1.0'), ('threadpoolctl', '2.1.0'), ('Flask-Caching', '2.0.1'), ('greenlet', '2.0.1'), ('argcomplete', '2.0.0'), ('Flask-Babel', '2.0.0'), ('linkify-it-py', '2.0.0'), ('prov', '2.0.0'), ('grpcio', '1.34.1'), ('google-auth', '1.32.0'), ('urllib3', '1.26.13'), ('numpy', '1.22.3'), ('PyMuPDF', '1.18.15'), ('pdf2image', '1.16.0'), ('six', '1.16.0'), ('cffi', '1.15.1'), ('wrapt', '1.14.1'), ('flatbuffers', '1.12'), ('py', '1.10.0'), ('torch', '1.9.0+cu111'), ('pyecharts', '1.9.0'), ('labelImg', '1.8.5'), ('pyperclip', '1.8.2'), ('Shapely', '1.8.1.post1'), ('alembic', '1.8.1'), ('lazy-object-proxy', '1.8.0'), ('Send2Trash', '1.8.0'), ('tensorboard-plugin-wit', '1.8.0'), ('distro', '1.7.0'), ('scipy', '1.7.0'), ('yarl', '1.7.0'), ('astunparse', '1.6.3'), ('pydantic', '1.6.2'), ('nipype', '1.6.1'), ('nodeenv', '1.6.0'), ('nest-asyncio', '1.5.4'), ('FinMind', '1.5.3'), ('marshmallow-enum', '1.5.1'), ('pandas', '1.5.1'), ('blinker', '1.5'), ('pandocfilters', '1.5.0'), ('rfc3986', '1.5.0'), ('SQLAlchemy', '1.4.44'), ('appdirs', '1.4.4'), ('pydot', '1.4.2'), ('websocket-client', '1.4.2'), ('xgboost', '1.4.2'), ('atomicwrites', '1.4.0'), ('pyxnat', '1.4'), ('croniter', '1.3.8'), ('retrying', '1.3.3'), ('setproctitle', '1.3.2'), ('apache-airflow-providers-common-sql', '1.3.1'), ('kiwisolver', '1.3.1'), ('pyclipper', '1.3.0.post2'), ('email-validator', '1.3.0'), ('lmdb', '1.3.0'), ('PyWavelets', '1.3.0'), ('requests-oauthlib', '1.3.0'), ('sniffio', '1.3.0'), ('text-unidecode', '1.3'), ('cron-descriptor', '1.2.32'), ('Deprecated', '1.2.13'), ('Mako', '1.2.4'), ('seqeval', '1.2.2'), ('TgCrypto', '1.2.2'), ('executing', '1.2.0'), ('flower', '1.2.0'), ('pywinpty', '1.1.6'), ('Keras-Preprocessing', '1.1.2'), ('click-plugins', '1.1.1'), ('iniconfig', '1.1.1'), ('chart-studio', '1.1.0'), ('cssselect', '1.1.0'), ('et-xmlfile', '1.1.0'), ('html5lib', '1.1'), ('PyMsgBox', '1.0.9'), ('exceptiongroup', '1.0.4'), ('msgpack', '1.0.3'), ('PyTweening', '1.0.3'), ('win32-setctime', '1.0.3'), ('jupyterlab-widgets', '1.0.2'), ('Flask-WTF', '1.0.1'), ('joblib', '1.0.1'), ('pathlib', '1.0.1'), ('uc-micro-py', '1.0.1'), ('pluggy', '1.0.0'), ('sgmllib3k', '1.0.0'), ('SQLAlchemy-JSONField', '1.0.0'), ('multiprocess', '0.70.12.2'), ('jieba', '0.42.1'), ('SQLAlchemy-Utils', '0.38.3'), ('wheel', '0.36.2'), ('Cython', '0.29.28'), ('marshmallow-sqlalchemy', '0.26.1'), ('scikit-learn', '0.24.2'), ('httpx', '0.23.1'), ('graphviz', '0.20.1'), ('pyrsistent', '0.19.2'), ('python-dotenv', '0.19.2'), ('scikit-image', '0.19.2'), ('httplib2', '0.19.1'), ('docutils', '0.19'), ('future', '0.18.2'), ('jedi', '0.18.0'), ('httpcore', '0.16.2'), ('prometheus-client', '0.15.0'), ('python-nvd3', '0.15.0'), ('unicodecsv', '0.14.1'), ('h11', '0.14.0'), ('absl-py', '0.13.0'), ('lockfile', '0.12.2'), ('python-Levenshtein', '0.12.2'), ('terminado', '0.12.1'), ('seaborn', '0.11.1'), ('toml', '0.10.2'), ('requests-toolbelt', '0.10.1'), ('torchvision', '0.10.0+cu111'), ('cycler', '0.10.0'), ('pandas-datareader', '0.10.0'), ('PyAutoGUI', '0.9.53'), ('commonmark', '0.9.1'), ('cachelib', '0.9.0'), ('pathspec', '0.9.0'), ('tabulate', '0.9.0'), ('torchaudio', '0.9.0'), ('bce-python-sdk', '0.8.64'), ('mistune', '0.8.4'), ('parso', '0.8.2'), ('astor', '0.8.1'), ('shellcheck-py', '0.8.0.4'), ('pickleshare', '0.7.5'), ('defusedxml', '0.7.1'), ('docopt', '0.6.2'), ('Flask-Login', '0.6.2'), ('mccabe', '0.6.1'), ('tensorboard-data-server', '0.6.1'), ('isodate', '0.6.0'), ('stack-data', '0.6.0'), ('ta', '0.5.25'), ('nbclient', '0.5.9'), ('imutils', '0.5.4'), ('loguru', '0.5.3'), ('inflection', '0.5.1'), ('webencodings', '0.5.1'), ('testpath', '0.5.0'), ('pyasn1', '0.4.8'), ('colorama', '0.4.6'), ('google-auth-oauthlib', '0.4.4'), ('sqlparse', '0.4.3'), ('Flask-Session', '0.4.0'), ('gast', '0.4.0'), ('imgaug', '0.4.0'), ('pytesseract', '0.3.8'), ('distlib', '0.3.4'), ('dill', '0.3.1.1'), ('mdit-py-plugins', '0.3.1'), ('click-didyoumean', '0.3.0'), ('entrypoints', '0.3'), ('pyasn1-modules', '0.2.8'), ('wcwidth', '0.2.5'), ('etelemetry', '0.2.2'), ('pure-eval', '0.2.2'), ('prison', '0.2.1'), ('backcall', '0.2.0'), ('ci-info', '0.2.0'), ('click-repl', '0.2.0'), ('google-pasta', '0.2.0'), ('ipython-genutils', '0.2.0'), ('yfinance', '0.1.93'), ('PyScreeze', '0.1.27'), ('PyRect', '0.1.4'), ('MouseInfo', '0.1.3'), ('jupyterlab-pygments', '0.1.2'), ('matplotlib-inline', '0.1.2'), ('mdurl', '0.1.2'), ('multitasking', '0.0.11'), ('PyGetWindow', '0.0.9'), ('swagger-ui-bundle', '0.0.9'), ('bs4', '0.0.1'), ('fitz', '0.0.1.dev2'), ('sklearn', '0.0')]\n"
     ]
    }
   ],
   "source": [
    "import pkg_resources\n",
    "print([(p.project_name,p.version) for p in pkg_resources.working_set])"
   ]
  },
  {
   "cell_type": "code",
   "execution_count": null,
   "metadata": {},
   "outputs": [],
   "source": []
  }
 ],
 "metadata": {
  "kernelspec": {
   "display_name": "dlenv",
   "language": "python",
   "name": "dlenv"
  },
  "orig_nbformat": 4
 },
 "nbformat": 4,
 "nbformat_minor": 2
}
