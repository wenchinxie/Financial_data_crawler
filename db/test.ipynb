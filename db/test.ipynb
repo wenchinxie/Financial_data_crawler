{
 "cells": [
  {
   "cell_type": "code",
   "execution_count": 2,
   "metadata": {},
   "outputs": [
    {
     "data": {
      "text/plain": [
       "[(1, datetime.datetime(2022, 12, 15, 0, 0), 'LLDPE全国主流市场均价', 8441.67),\n",
       " (2, datetime.datetime(2022, 12, 14, 0, 0), 'LLDPE全国主流市场均价', 8413.33),\n",
       " (3, datetime.datetime(2022, 12, 13, 0, 0), 'LLDPE全国主流市场均价', 8413.33),\n",
       " (4, datetime.datetime(2022, 12, 12, 0, 0), 'LLDPE全国主流市场均价', 8391.67),\n",
       " (5, datetime.datetime(2022, 12, 9, 0, 0), 'LLDPE全国主流市场均价', 8316.67),\n",
       " (6, datetime.datetime(2022, 12, 8, 0, 0), 'LLDPE全国主流市场均价', 8351.67),\n",
       " (7, datetime.datetime(2022, 12, 7, 0, 0), 'LLDPE全国主流市场均价', 8378.33),\n",
       " (8, datetime.datetime(2022, 12, 15, 0, 0), '汽油全国主流市场均价', 7891.92),\n",
       " (9, datetime.datetime(2022, 12, 14, 0, 0), '汽油全国主流市场均价', 7832.28),\n",
       " (10, datetime.datetime(2022, 12, 13, 0, 0), '汽油全国主流市场均价', 7755.48),\n",
       " (11, datetime.datetime(2022, 12, 12, 0, 0), '汽油全国主流市场均价', 7726.7),\n",
       " (12, datetime.datetime(2022, 12, 9, 0, 0), '汽油全国主流市场均价', 7763.75),\n",
       " (13, datetime.datetime(2022, 12, 8, 0, 0), '汽油全国主流市场均价', 7775.22),\n",
       " (14, datetime.datetime(2022, 12, 7, 0, 0), '汽油全国主流市场均价', 7805.78),\n",
       " (15, datetime.datetime(2022, 12, 15, 0, 0), '柴油全国主流市场均价', 7952.84),\n",
       " (16, datetime.datetime(2022, 12, 14, 0, 0), '柴油全国主流市场均价', 7978.82),\n",
       " (17, datetime.datetime(2022, 12, 13, 0, 0), '柴油全国主流市场均价', 7949.53),\n",
       " (18, datetime.datetime(2022, 12, 12, 0, 0), '柴油全国主流市场均价', 7981.76),\n",
       " (19, datetime.datetime(2022, 12, 9, 0, 0), '柴油全国主流市场均价', 8065.27),\n",
       " (20, datetime.datetime(2022, 12, 8, 0, 0), '柴油全国主流市场均价', 8118.56),\n",
       " (21, datetime.datetime(2022, 12, 7, 0, 0), '柴油全国主流市场均价', 8214.56),\n",
       " (22, datetime.datetime(2022, 12, 15, 0, 0), '液化石油气全国主流市场均价', 5390.93),\n",
       " (23, datetime.datetime(2022, 12, 14, 0, 0), '液化石油气全国主流市场均价', 5363.43),\n",
       " (24, datetime.datetime(2022, 12, 13, 0, 0), '液化石油气全国主流市场均价', 5321.29),\n",
       " (25, datetime.datetime(2022, 12, 12, 0, 0), '液化石油气全国主流市场均价', 5305.57),\n",
       " (26, datetime.datetime(2022, 12, 9, 0, 0), '液化石油气全国主流市场均价', 5314.29),\n",
       " (27, datetime.datetime(2022, 12, 8, 0, 0), '液化石油气全国主流市场均价', 5302.86),\n",
       " (28, datetime.datetime(2022, 12, 7, 0, 0), '液化石油气全国主流市场均价', 5322.86),\n",
       " (29, datetime.datetime(2022, 12, 15, 0, 0), '船用油全国主流市场均价', 5862.5),\n",
       " (30, datetime.datetime(2022, 12, 14, 0, 0), '船用油全国主流市场均价', 5862.5),\n",
       " (31, datetime.datetime(2022, 12, 13, 0, 0), '船用油全国主流市场均价', 5868.75),\n",
       " (32, datetime.datetime(2022, 12, 12, 0, 0), '船用油全国主流市场均价', 5925.0),\n",
       " (33, datetime.datetime(2022, 12, 9, 0, 0), '船用油全国主流市场均价', 6005.0),\n",
       " (34, datetime.datetime(2022, 12, 8, 0, 0), '船用油全国主流市场均价', 6027.5),\n",
       " (35, datetime.datetime(2022, 12, 7, 0, 0), '船用油全国主流市场均价', 6147.5)]"
      ]
     },
     "execution_count": 2,
     "metadata": {},
     "output_type": "execute_result"
    }
   ],
   "source": [
    "import psycopg2\n",
    "conn = psycopg2.connect(\n",
    "    host=\"localhost\",\n",
    "    database=\"postgres\",\n",
    "    user=\"postgres\",\n",
    "    password=\"postgres\")\n",
    "\n",
    "cur=conn.cursor()\n",
    "cur.execute('SELECT * FROM Raw_material;')\n",
    "cur.fetchall()\n"
   ]
  },
  {
   "cell_type": "code",
   "execution_count": 27,
   "metadata": {},
   "outputs": [
    {
     "ename": "InterfaceError",
     "evalue": "cursor already closed",
     "output_type": "error",
     "traceback": [
      "\u001b[1;31m---------------------------------------------------------------------------\u001b[0m",
      "\u001b[1;31mInterfaceError\u001b[0m                            Traceback (most recent call last)",
      "Cell \u001b[1;32mIn [27], line 1\u001b[0m\n\u001b[1;32m----> 1\u001b[0m cur\u001b[39m.\u001b[39;49mexecute(\u001b[39m'\u001b[39;49m\u001b[39mSELECT * \u001b[39;49m\u001b[39m\\\u001b[39;49;00m\n\u001b[0;32m      2\u001b[0m \u001b[39mFROM information_schema.columns \u001b[39;49m\u001b[39m\\\u001b[39;49;00m\n\u001b[0;32m      3\u001b[0m \u001b[39mAND table_name   =\u001b[39;49m\u001b[39m\"\u001b[39;49m\u001b[39mRaw_material\u001b[39;49m\u001b[39m\"\u001b[39;49m\u001b[39m)\u001b[39;49m\u001b[39m'\u001b[39;49m)\n",
      "\u001b[1;31mInterfaceError\u001b[0m: cursor already closed"
     ]
    }
   ],
   "source": [
    "with conn:\n",
    "    with conn.cursor() as cur:\n",
    "        SQL = \"INSERT INTO Raw_material (Date,Material_name,Price) VALUES (%s,%s,%s)\\\n",
    "                ON CONFLICT (Date,Material_name) DO UPDATE \\\n",
    "                SET Price=EXCLUDED.Price\" \n",
    "        data = ('2022-12-14', 'test', 12.32)\n",
    "        cur.execute(SQL, data)\n",
    "        cur.execute('SELECT * FROM Raw_material;')\n",
    "        print(cur.fetchone())\n",
    "        conn.commit() \\\n",
    "    ON CONFLICT ON CONSTRAINT (Date,Material_name,Price) DO UPDATE;"
   ]
  },
  {
   "cell_type": "code",
   "execution_count": 1,
   "metadata": {},
   "outputs": [
    {
     "name": "stdout",
     "output_type": "stream",
     "text": [
      "['mongodb']\n"
     ]
    }
   ],
   "source": [
    "import configparser\n",
    "config=configparser.ConfigParser()\n",
    "config.read('mongodb.ini')\n",
    "\n",
    "print(config.sections())"
   ]
  },
  {
   "cell_type": "code",
   "execution_count": 2,
   "metadata": {},
   "outputs": [
    {
     "data": {
      "text/plain": [
       "'c:\\\\Users\\\\s3309\\\\AT\\\\Financial_data_crawler\\\\db'"
      ]
     },
     "execution_count": 2,
     "metadata": {},
     "output_type": "execute_result"
    }
   ],
   "source": [
    "import os\n",
    "os.getcwd()\n"
   ]
  },
  {
   "cell_type": "code",
   "execution_count": 52,
   "metadata": {},
   "outputs": [
    {
     "name": "stdout",
     "output_type": "stream",
     "text": [
      "Arguments: (1, 2), {}\n",
      "Return value: 3\n"
     ]
    },
    {
     "data": {
      "text/plain": [
       "3"
      ]
     },
     "execution_count": 52,
     "metadata": {},
     "output_type": "execute_result"
    }
   ],
   "source": [
    "def log(func):\n",
    "    def wrapper(*args, **kwargs):\n",
    "        print(f\"Arguments: {args}, {kwargs}\")\n",
    "        result = func(*args, **kwargs)\n",
    "        print(f\"Return value: {result}\")\n",
    "        return result\n",
    "    return wrapper\n",
    "\n",
    "@log\n",
    "def add(x, y):\n",
    "    return x + y\n",
    "\n",
    "add(1, 2)"
   ]
  },
  {
   "cell_type": "code",
   "execution_count": 58,
   "metadata": {},
   "outputs": [
    {
     "name": "stdout",
     "output_type": "stream",
     "text": [
      "14\n"
     ]
    }
   ],
   "source": [
    "# Define the decorator function\n",
    "def power(power_number):\n",
    "    # Define the inner function\n",
    "    def decorator(func):\n",
    "        # Define a wrapper function that passes the arguments to the decorator function\n",
    "        def wrapper(*args, **kwargs):\n",
    "\n",
    "            # Raise each number to the power specified in the decorator\n",
    "            result = [x**power_number for x in args]\n",
    "            # Return the result of the function\n",
    "            return func(*result, **kwargs)\n",
    "        return wrapper\n",
    "    return decorator\n",
    "\n",
    "# Define the add function\n",
    "@power(2)\n",
    "def add(*args):\n",
    "    return sum(args)\n",
    "\n",
    "# Test the add function\n",
    "print(add(1, 2, 3))  # This should print 14 (1^2 + 2^2 + 3^2)\n"
   ]
  },
  {
   "cell_type": "code",
   "execution_count": 65,
   "metadata": {},
   "outputs": [
    {
     "name": "stdout",
     "output_type": "stream",
     "text": [
      "Meow!\n"
     ]
    },
    {
     "ename": "TypeError",
     "evalue": "Can't instantiate abstract class Dog with abstract method make_sound",
     "output_type": "error",
     "traceback": [
      "\u001b[1;31m---------------------------------------------------------------------------\u001b[0m",
      "\u001b[1;31mTypeError\u001b[0m                                 Traceback (most recent call last)",
      "Cell \u001b[1;32mIn [65], line 23\u001b[0m\n\u001b[0;32m     20\u001b[0m cat \u001b[39m=\u001b[39m Cat()\n\u001b[0;32m     21\u001b[0m cat\u001b[39m.\u001b[39mmake_sound()  \u001b[39m# This should print \"Meow!\"\u001b[39;00m\n\u001b[1;32m---> 23\u001b[0m dog \u001b[39m=\u001b[39m Dog()\n\u001b[0;32m     24\u001b[0m dog\u001b[39m.\u001b[39mmake_sound()  \u001b[39m# This should print \"Woof!\"\u001b[39;00m\n\u001b[0;32m     26\u001b[0m animal \u001b[39m=\u001b[39m Animal()  \u001b[39m# This should raise a TypeError\u001b[39;00m\n",
      "\u001b[1;31mTypeError\u001b[0m: Can't instantiate abstract class Dog with abstract method make_sound"
     ]
    }
   ],
   "source": [
    "from abc import ABC, abstractmethod\n",
    "\n",
    "# Define the Animal ABC\n",
    "class Animal(ABC):\n",
    "    @abstractmethod\n",
    "    def make_sound(self):\n",
    "        pass\n",
    "\n",
    "# Define a Cat class that inherits from the Animal ABC\n",
    "class Cat(Animal):\n",
    "    def make_sound(self):\n",
    "        print(\"Meow!\")\n",
    "\n",
    "# Define a Dog class that inherits from the Animal ABC\n",
    "class Dog(Animal):\n",
    "    def make_sound_(self):\n",
    "        print(\"Woof!\")\n",
    "\n",
    "# Test the Animal, Cat, and Dog classes\n",
    "cat = Cat()\n",
    "cat.make_sound()  # This should print \"Meow!\"\n",
    "\n",
    "dog = Dog()\n",
    "dog.make_sound()  # This should print \"Woof!\"\n",
    "\n",
    "animal = Animal()  # This should raise a TypeError\n"
   ]
  },
  {
   "cell_type": "code",
   "execution_count": 3,
   "metadata": {},
   "outputs": [
    {
     "name": "stdout",
     "output_type": "stream",
     "text": [
      "57\n"
     ]
    }
   ],
   "source": [
    "x={'Dat':57}\n",
    "\n",
    "def test(Dat=56):\n",
    "    print(Dat)\n",
    "\n",
    "test(**x)"
   ]
  },
  {
   "cell_type": "code",
   "execution_count": 8,
   "metadata": {},
   "outputs": [
    {
     "name": "stdout",
     "output_type": "stream",
     "text": [
      "[*********************100%***********************]  1 of 1 completed\n"
     ]
    }
   ],
   "source": [
    "from pandas_datareader import data as pdr\n",
    "import datetime\n",
    "import yfinance as yf\n",
    "yf.pdr_override()\n",
    "downloaded = pdr.get_data_yahoo('DX-Y.NYB', start=datetime.datetime(2021, 1, 1, 0, 0))\n",
    "\n"
   ]
  },
  {
   "cell_type": "code",
   "execution_count": null,
   "metadata": {},
   "outputs": [],
   "source": [
    "import pymongo\n",
    "clients.get_mongodb_news_conn()['Comp'].Profile\n"
   ]
  }
 ],
 "metadata": {
  "kernelspec": {
   "display_name": "AT_WEB",
   "language": "python",
   "name": "at_web"
  },
  "language_info": {
   "codemirror_mode": {
    "name": "ipython",
    "version": 3
   },
   "file_extension": ".py",
   "mimetype": "text/x-python",
   "name": "python",
   "nbconvert_exporter": "python",
   "pygments_lexer": "ipython3",
   "version": "3.9.5 (tags/v3.9.5:0a7dcbd, May  3 2021, 17:27:52) [MSC v.1928 64 bit (AMD64)]"
  },
  "orig_nbformat": 4
 },
 "nbformat": 4,
 "nbformat_minor": 2
}
